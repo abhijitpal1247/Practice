{
  "nbformat": 4,
  "nbformat_minor": 0,
  "metadata": {
    "colab": {
      "name": "RegEx_practice.ipynb",
      "provenance": [],
      "authorship_tag": "ABX9TyMvmKReXt+sdIgsyw0UIe9u",
      "include_colab_link": true
    },
    "kernelspec": {
      "name": "python3",
      "display_name": "Python 3"
    },
    "language_info": {
      "name": "python"
    }
  },
  "cells": [
    {
      "cell_type": "markdown",
      "metadata": {
        "id": "view-in-github",
        "colab_type": "text"
      },
      "source": [
        "<a href=\"https://colab.research.google.com/github/ee17b031-iittp/Practice/blob/main/RegEx_practice.ipynb\" target=\"_parent\"><img src=\"https://colab.research.google.com/assets/colab-badge.svg\" alt=\"Open In Colab\"/></a>"
      ]
    },
    {
      "cell_type": "markdown",
      "source": [
        "RegEx Practice"
      ],
      "metadata": {
        "id": "NLaWzOmfSBqC"
      }
    },
    {
      "cell_type": "code",
      "source": [
        "import re"
      ],
      "metadata": {
        "id": "PcDQ348GSBCp"
      },
      "execution_count": null,
      "outputs": []
    },
    {
      "cell_type": "markdown",
      "source": [
        "* findall: Returns a list of matches\n",
        "* search: Returns a Match object if there is a match\n",
        "* split: Returns a list of strings split wherever there is a match\n",
        "* sub: \tReplaces one or many matches with a string"
      ],
      "metadata": {
        "id": "wJFW9tRIT4gB"
      }
    },
    {
      "cell_type": "markdown",
      "source": [
        "* [ ]: set of characters\n",
        "* ^ : start of the string\n",
        "* $ : end of the string\n",
        "* \\ : escape sequence\n",
        "* . : any character\n",
        "* \\* : zero or more preceding character\n",
        "* \\+ : one or more preceding character\n",
        "* ? : zero or one character\n",
        "* {}: specify the number of occurences\n",
        "* | : either or"
      ],
      "metadata": {
        "id": "bcAv1nYzUwmx"
      }
    },
    {
      "cell_type": "code",
      "execution_count": null,
      "metadata": {
        "id": "evSQdXcuR85S"
      },
      "outputs": [],
      "source": [
        "a = \"This is RegEx practice notebook\"\n",
        "matchList = re.findall(\"i\", a)"
      ]
    },
    {
      "cell_type": "markdown",
      "source": [
        "The resultant list consists of the matches in the order they were found"
      ],
      "metadata": {
        "id": "uIirGg-Kb7zp"
      }
    },
    {
      "cell_type": "code",
      "source": [
        "matchList"
      ],
      "metadata": {
        "colab": {
          "base_uri": "https://localhost:8080/"
        },
        "id": "4dx3XHc8blOZ",
        "outputId": "cbe0320e-b862-45b5-8bd5-215d10a668fe"
      },
      "execution_count": null,
      "outputs": [
        {
          "output_type": "execute_result",
          "data": {
            "text/plain": [
              "['i', 'i', 'i']"
            ]
          },
          "metadata": {},
          "execution_count": 13
        }
      ]
    },
    {
      "cell_type": "code",
      "source": [
        "a = \"This is RegEx practice notebook\"\n",
        "x = re.search(\"RegEx\", a)"
      ],
      "metadata": {
        "id": "T3geKVPWbnll"
      },
      "execution_count": null,
      "outputs": []
    },
    {
      "cell_type": "markdown",
      "source": [
        "Returns the position of start and end of the match"
      ],
      "metadata": {
        "id": "vg-_zOksi-u6"
      }
    },
    {
      "cell_type": "code",
      "source": [
        "print(x.start(), x.end())"
      ],
      "metadata": {
        "colab": {
          "base_uri": "https://localhost:8080/"
        },
        "id": "oQ10lYJmevcp",
        "outputId": "153224fb-36ae-4b9b-f3b0-65a53e61c7d9"
      },
      "execution_count": null,
      "outputs": [
        {
          "output_type": "stream",
          "name": "stdout",
          "text": [
            "8 13\n"
          ]
        }
      ]
    },
    {
      "cell_type": "code",
      "source": [
        ""
      ],
      "metadata": {
        "id": "_g8e4DlQe2Fp"
      },
      "execution_count": null,
      "outputs": []
    }
  ]
}