{
  "nbformat": 4,
  "nbformat_minor": 0,
  "metadata": {
    "colab": {
      "name": "RegEx_practice.ipynb",
      "provenance": [],
      "collapsed_sections": [],
      "authorship_tag": "ABX9TyMAcTH95RQ2gXNDkyXlYygG",
      "include_colab_link": true
    },
    "kernelspec": {
      "name": "python3",
      "display_name": "Python 3"
    },
    "language_info": {
      "name": "python"
    }
  },
  "cells": [
    {
      "cell_type": "markdown",
      "metadata": {
        "id": "view-in-github",
        "colab_type": "text"
      },
      "source": [
        "<a href=\"https://colab.research.google.com/github/ee17b031-iittp/Practice/blob/main/RegEx_practice.ipynb\" target=\"_parent\"><img src=\"https://colab.research.google.com/assets/colab-badge.svg\" alt=\"Open In Colab\"/></a>"
      ]
    },
    {
      "cell_type": "markdown",
      "source": [
        "RegEx Practice"
      ],
      "metadata": {
        "id": "NLaWzOmfSBqC"
      }
    },
    {
      "cell_type": "code",
      "source": [
        "import re"
      ],
      "metadata": {
        "id": "PcDQ348GSBCp"
      },
      "execution_count": null,
      "outputs": []
    },
    {
      "cell_type": "markdown",
      "source": [
        "* findall: Returns a list of matches\n",
        "* search: Returns a Match object if there is a match\n",
        "* split: Returns a list of strings split wherever there is a match\n",
        "* sub: \tReplaces one or many matches with a string"
      ],
      "metadata": {
        "id": "wJFW9tRIT4gB"
      }
    },
    {
      "cell_type": "markdown",
      "source": [
        "* [ ]: set of characters\n",
        "* ^ : start of the string\n",
        "* $ : end of the string\n",
        "* \\ : escape sequence\n",
        "* . : any character\n",
        "* \\* : zero or more preceding character\n",
        "* \\+ : one or more preceding character\n",
        "* ? : zero or one character\n",
        "* {}: specify the number of occurences\n",
        "* | : either or"
      ],
      "metadata": {
        "id": "bcAv1nYzUwmx"
      }
    },
    {
      "cell_type": "code",
      "execution_count": null,
      "metadata": {
        "id": "evSQdXcuR85S"
      },
      "outputs": [],
      "source": [
        "a = \"This is RegEx practice notebook\"\n",
        "matchList = re.findall(\"i\", a)"
      ]
    },
    {
      "cell_type": "markdown",
      "source": [
        "The resultant list consists of the matches in the order they were found"
      ],
      "metadata": {
        "id": "uIirGg-Kb7zp"
      }
    },
    {
      "cell_type": "code",
      "source": [
        "matchList"
      ],
      "metadata": {
        "colab": {
          "base_uri": "https://localhost:8080/"
        },
        "id": "4dx3XHc8blOZ",
        "outputId": "b6f82a62-d29c-429a-cb30-0059ce93b8cb"
      },
      "execution_count": null,
      "outputs": [
        {
          "output_type": "execute_result",
          "data": {
            "text/plain": [
              "['i', 'i', 'i']"
            ]
          },
          "metadata": {},
          "execution_count": 21
        }
      ]
    },
    {
      "cell_type": "code",
      "source": [
        "a = \"This is RegEx practice notebook\"\n",
        "x = re.search(\"Reg\", a)"
      ],
      "metadata": {
        "id": "T3geKVPWbnll"
      },
      "execution_count": null,
      "outputs": []
    },
    {
      "cell_type": "markdown",
      "source": [
        "Returns the position of start and end of the match"
      ],
      "metadata": {
        "id": "vg-_zOksi-u6"
      }
    },
    {
      "cell_type": "code",
      "source": [
        "print(x.start(), x.end())"
      ],
      "metadata": {
        "colab": {
          "base_uri": "https://localhost:8080/"
        },
        "id": "oQ10lYJmevcp",
        "outputId": "5c0baa41-7bbb-4ae9-a966-d6eb6c146e64"
      },
      "execution_count": null,
      "outputs": [
        {
          "output_type": "stream",
          "name": "stdout",
          "text": [
            "8 11\n"
          ]
        }
      ]
    },
    {
      "cell_type": "code",
      "source": [
        "print(x.group())"
      ],
      "metadata": {
        "colab": {
          "base_uri": "https://localhost:8080/"
        },
        "id": "W4vQHS7dps9U",
        "outputId": "7af2f6a3-9107-4163-8811-16b919d3533f"
      },
      "execution_count": null,
      "outputs": [
        {
          "output_type": "stream",
          "name": "stdout",
          "text": [
            "Reg\n"
          ]
        }
      ]
    },
    {
      "cell_type": "markdown",
      "source": [
        "Splits the string into multiple sub-strings on match"
      ],
      "metadata": {
        "id": "dt-LxnWnmHH5"
      }
    },
    {
      "cell_type": "code",
      "source": [
        "splitList = re.split(\"i\", a)\n",
        "splitList"
      ],
      "metadata": {
        "id": "_g8e4DlQe2Fp",
        "colab": {
          "base_uri": "https://localhost:8080/"
        },
        "outputId": "b6784c8d-6ae8-4fe3-dbe5-d8eb1dc36703"
      },
      "execution_count": null,
      "outputs": [
        {
          "output_type": "execute_result",
          "data": {
            "text/plain": [
              "['Th', 's ', 's RegEx pract', 'ce notebook']"
            ]
          },
          "metadata": {},
          "execution_count": 25
        }
      ]
    },
    {
      "cell_type": "markdown",
      "source": [
        "Subs the target substring with given substring"
      ],
      "metadata": {
        "id": "tujAmKL1onSR"
      }
    },
    {
      "cell_type": "code",
      "source": [
        "subbedstring = re.sub(\"i\", \" \", a)\n",
        "subbedstring"
      ],
      "metadata": {
        "colab": {
          "base_uri": "https://localhost:8080/",
          "height": 35
        },
        "id": "0VmpIq_pl_2S",
        "outputId": "dadf6996-095e-4ce3-b3d9-37e49f55baac"
      },
      "execution_count": null,
      "outputs": [
        {
          "output_type": "execute_result",
          "data": {
            "text/plain": [
              "'Th s  s RegEx pract ce notebook'"
            ],
            "application/vnd.google.colaboratory.intrinsic+json": {
              "type": "string"
            }
          },
          "metadata": {},
          "execution_count": 27
        }
      ]
    },
    {
      "cell_type": "markdown",
      "source": [
        "* \\A : returns matches that are at the start of the string\n",
        "* \\b : returns matches that are at the begining of a word\n",
        "* \\B : returns matches that are not at the begining of a word\n",
        "* \\d : returns matches that are numbers\n",
        "* \\D : returns matches that are not numbers\n",
        "* \\s : returns matches that are whitespace\n",
        "* \\w : returns matches that are alphanumeric\n",
        "* \\W : returns matches that are not alphanumeric\n",
        "* \\Z : returns matches that are at the end of string"
      ],
      "metadata": {
        "id": "htMQ-b9yrPES"
      }
    },
    {
      "cell_type": "markdown",
      "source": [
        "Pattern matching"
      ],
      "metadata": {
        "id": "peOwmHnEKX7L"
      }
    },
    {
      "cell_type": "markdown",
      "source": [
        "* match : returns match objects if there is a match or else None"
      ],
      "metadata": {
        "id": "xkhTQrg2Kb-g"
      }
    },
    {
      "cell_type": "code",
      "source": [
        "matchObject = re.match(\"^This \", a)\n",
        "matchObject"
      ],
      "metadata": {
        "id": "ukKnVcOLoi7t",
        "colab": {
          "base_uri": "https://localhost:8080/"
        },
        "outputId": "22f81adf-8daa-4956-b992-7cdf3c634871"
      },
      "execution_count": 39,
      "outputs": [
        {
          "output_type": "execute_result",
          "data": {
            "text/plain": [
              "<re.Match object; span=(0, 5), match='This '>"
            ]
          },
          "metadata": {},
          "execution_count": 39
        }
      ]
    },
    {
      "cell_type": "code",
      "source": [
        "email = \"abhijit1247@gmail.com\"\n",
        "pattern=\"^[A-Za-z0-9.+%_-]+@[A-Za-z0-9.-]+\\.[A-Za-z]{2,}$\"\n",
        "matchObject = re.match(pattern, email)\n",
        "matchObject"
      ],
      "metadata": {
        "colab": {
          "base_uri": "https://localhost:8080/"
        },
        "id": "UpSdNTKVO3-A",
        "outputId": "a07f984c-bfbd-4cd1-88df-c91e81b67e65"
      },
      "execution_count": 48,
      "outputs": [
        {
          "output_type": "execute_result",
          "data": {
            "text/plain": [
              "<re.Match object; span=(0, 21), match='abhijit1247@gmail.com'>"
            ]
          },
          "metadata": {},
          "execution_count": 48
        }
      ]
    },
    {
      "cell_type": "code",
      "source": [
        ""
      ],
      "metadata": {
        "id": "00RlRzc5Uh9Y"
      },
      "execution_count": null,
      "outputs": []
    }
  ]
}